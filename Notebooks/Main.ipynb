{
 "cells": [
  {
   "cell_type": "code",
   "execution_count": 1,
   "id": "bb67f05c",
   "metadata": {},
   "outputs": [],
   "source": [
    "import pandas as pd\n",
    "import numpy as np\n",
    "import matplotlib.pyplot as plt\n",
    "import seaborn as sns"
   ]
  },
  {
   "cell_type": "code",
   "execution_count": 2,
   "id": "134a89f6",
   "metadata": {},
   "outputs": [],
   "source": [
    "# Read the CSV file\n",
    "df = pd.read_csv(\"Data/PreprocessedUnicorn.csv\")"
   ]
  },
  {
   "cell_type": "code",
   "execution_count": 3,
   "id": "38a6cc8d",
   "metadata": {
    "scrolled": true
   },
   "outputs": [],
   "source": [
    "df.head()"
   ]
  },
  {
   "cell_type": "markdown",
   "id": "778d0053",
   "metadata": {},
   "source": [
    "## Data Understanding\n",
    "\n",
    "| Column Name         | Description                                                                                                                              |\n",
    "|:--------------------|:-----------------------------------------------------------------------------------------------------------------------------------------|\n",
    "| Company             | The name of the Indian unicorn startup.                                                                                                  |\n",
    "| Sector              | Categorizes each startup based on the industry or sector in which it operates.                                                          |\n",
    "| Entry Valuation     | Denotes the valuation of the company at the time of entry into the unicorn club, measured in billions of dollars.                        |\n",
    "| Valuation           | Reflects the current valuation of the company, also measured in billions of dollars.                                                     |\n",
    "| Location            | Specifies the geographic location or city where the startup is headquartered.                                                           |\n",
    "| Select Investors    | Lists the notable investors who have invested in the respective startup, including venture capitalists, private equity firms, and others. |\n",
    "| Number of Investors | Indicates the count of investors who have invested in the startup.                                                                       |\n",
    "| Year                | Represents the year in which the startup data is recorded.                                                                              |\n",
    "| Month               | Represents the month in which the startup data is recorded.                                                                             |"
   ]
  },
  {
   "cell_type": "markdown",
   "id": "09455f9b",
   "metadata": {},
   "source": [
    "Let's Start our analysis with sector bases"
   ]
  },
  {
   "cell_type": "code",
   "execution_count": 4,
   "id": "fdd8ef4e",
   "metadata": {},
   "outputs": [],
   "source": [
    "# Calculate the frequency of each Main_Sector\n",
    "sector_counts = df['Main_Sector'].value_counts()\n",
    "\n",
    "# Create a bar plot\n",
    "plt.figure(figsize=(15, 5))\n",
    "sns.barplot(x=sector_counts.index, y=sector_counts.values)\n",
    "plt.xlabel('Main Sector')\n",
    "plt.ylabel('Number of Companies')\n",
    "plt.title('Number of Unicorn Startups in each Main Sector')\n",
    "plt.xticks(rotation=90)\n",
    "\n",
    "# Add count labels to the bars\n",
    "for i, count in enumerate(sector_counts.values):\n",
    "    plt.text(i, count, str(count), ha='center', va='bottom')\n",
    "\n",
    "plt.show()\n"
   ]
  },
  {
   "cell_type": "markdown",
   "id": "3b393403",
   "metadata": {},
   "source": [
    "### Insights:\n",
    "\n",
    "After plotting the frequency of Main Sectors for unicorn startups, the following key insights can be observed:\n",
    "\n",
    "1. Fintech emerges as the leading industry for unicorn startups, indicating a strong presence of innovative financial technology companies.\n",
    "2. SaaS (Software as a Service) and E-Commerce sectors show significant activity and competition, both being prominent areas for unicorn startups.\n",
    "3. Fintech, SaaS, and E-Commerce sectors collectively dominate the unicorn startup landscape, highlighting the potential for disruption and growth in these industries.\n",
    "4. Other notable main sectors include Marketplace, Edtech (Education Technology), and Logistics Services, which also demonstrate a considerable number of unicorn startups."
   ]
  },
  {
   "cell_type": "code",
   "execution_count": 5,
   "id": "47151b15",
   "metadata": {},
   "outputs": [],
   "source": [
    "# Group the dataset by sector and calculate the average entry valuation\n",
    "sector_avg_valuation = df.groupby(\"Main_Sector\")[\"Entry_Valuation ($B)\"].mean().sort_values(ascending=False)\n",
    "\n",
    "# Plot the sector-wise entry valuation using seaborn\n",
    "plt.figure(figsize=(10, 6))\n",
    "sns.barplot(x=sector_avg_valuation.index, y=sector_avg_valuation.values)\n",
    "plt.xlabel(\"Sector\")\n",
    "plt.ylabel(\"Average Entry Valuation ($B)\")\n",
    "plt.title(\"Sector-wise Entry Valuation of Indian Unicorn Startups\")\n",
    "plt.xticks(rotation=90)\n",
    "plt.tight_layout()\n",
    "plt.show()"
   ]
  },
  {
   "cell_type": "markdown",
   "id": "19ee50d3",
   "metadata": {},
   "source": [
    "### Insights:\n",
    "- The Web3 Infrastructure sector stands out with a significantly higher average entry valuation requirement of around 10 billion dollars. This indicates the substantial investment and growth potential in the Web3 space, which encompasses blockchain, cryptocurrency, and decentralized technologies.\n",
    "\n",
    "- Other sectors, such as E-Commerce, Fintech, Healthtech, and Edtech, have relatively lower average entry valuations ranging from 1 to 2 billion dollars. This suggests that startups in these sectors can attract investments with a comparatively lower investment threshold."
   ]
  },
  {
   "cell_type": "code",
   "execution_count": 6,
   "id": "b33663d3",
   "metadata": {},
   "outputs": [],
   "source": [
    "# Calculate the total number of investors for each sector\n",
    "sector_total_investors = df.groupby('Main_Sector')['Number_of_investors'].sum()\n",
    "\n",
    "# Sort the sectors based on the total number of investors\n",
    "sorted_sectors = sector_total_investors.sort_values(ascending=False)\n",
    "\n",
    "# Plot the sector-wise total investors using a bar plot\n",
    "plt.figure(figsize=(10, 6))\n",
    "sns.barplot(x=sorted_sectors.index, y=sorted_sectors.values)\n",
    "plt.xlabel('Sector')\n",
    "plt.ylabel('Total Investors')\n",
    "plt.title('Sector-wise Total Investors in Indian Unicorn Startups')\n",
    "plt.xticks(rotation=90)\n",
    "\n",
    "# Add the count labels to the bars\n",
    "for i, count in enumerate(sorted_sectors.values):\n",
    "    plt.text(i, count, str(count), ha='center', va='bottom')\n",
    "\n",
    "plt.tight_layout()\n",
    "plt.show()\n"
   ]
  },
  {
   "cell_type": "code",
   "execution_count": 7,
   "id": "76844694",
   "metadata": {},
   "outputs": [],
   "source": [
    "# Count the number of unicorns in each location\n",
    "unicorn_counts = df['Location'].value_counts()\n",
    "\n",
    "# Sort the locations based on unicorn count in descending order\n",
    "sorted_locations = unicorn_counts.sort_values(ascending=False)\n",
    "\n",
    "# Plot the number of unicorns based on location using Seaborn\n",
    "plt.figure(figsize=(10, 6))\n",
    "sns.barplot(x=sorted_locations.index, y=sorted_locations.values)\n",
    "plt.xlabel('Location')\n",
    "plt.ylabel('Number of Unicorns')\n",
    "plt.title('Number of Unicorns Based on Location')\n",
    "plt.xticks(rotation=90)\n",
    "\n",
    "# Add numbers on top of the bars\n",
    "for i, count in enumerate(sorted_locations.values):\n",
    "    plt.text(i, count, str(count), ha='center', va='bottom')\n",
    "\n",
    "plt.tight_layout()\n",
    "plt.show()"
   ]
  },
  {
   "cell_type": "markdown",
   "id": "5d8f68ee",
   "metadata": {},
   "source": [
    "### Insights:\n",
    "- Bangalore is the primary hub for startups and unicorn companies in India, with the highest concentration of unicorn startups.\n",
    "- Gurgaon and Mumbai are also prominent locations for unicorn startups.\n",
    "- Delhi, Pune, and Noida have a some notable presence in the unicorn startup landscape.\n",
    "- Other locations have a relatively smaller number of unicorn startups compared to the top cities."
   ]
  },
  {
   "cell_type": "code",
   "execution_count": 8,
   "id": "b0d67d72",
   "metadata": {},
   "outputs": [],
   "source": [
    "# Calculate the profit percentage for each startup\n",
    "df['Profit_Percentage'] = (df['Final_Valuation ($B)'] - df['Entry_Valuation ($B)']) / df['Entry_Valuation ($B)']\n",
    "\n",
    "# Group the startups by main sector and calculate the average profit percentage\n",
    "sector_avg_profit = df.groupby('Main_Sector')['Profit_Percentage'].mean()\n",
    "\n",
    "# Sort the sectors based on the average profit percentage\n",
    "sorted_sectors = sector_avg_profit.sort_values(ascending=False)\n",
    "\n",
    "# Plot the sector-wise profit percentage using a bar plot\n",
    "plt.figure(figsize=(10, 6))\n",
    "sns.barplot(x=sorted_sectors.index, y=sorted_sectors.values)\n",
    "plt.xlabel('Sector')\n",
    "plt.ylabel('Profit Percentage')\n",
    "plt.title('Sector-wise Profit Percentage in Indian Unicorn Startups')\n",
    "plt.xticks(rotation=90)\n",
    "plt.tight_layout()\n",
    "plt.show()"
   ]
  },
  {
   "cell_type": "markdown",
   "id": "14280e46",
   "metadata": {},
   "source": [
    "### Insights:\n",
    "- The sectors that have shown the highest profit percentages based on the difference between entry and final valuations are Foodtech, Mobility, Edtech, and Content.\n",
    "- Fintech and Gaming sectors have also demonstrated considerable profitability.\n",
    "- However, other sectors in the dataset have not shown significant profit percentages compared to the top-performing sectors."
   ]
  },
  {
   "cell_type": "markdown",
   "id": "2bf8383d",
   "metadata": {},
   "source": [
    "## Let's do analysis on Year wise:"
   ]
  },
  {
   "cell_type": "code",
   "execution_count": 9,
   "id": "1bc09cd4",
   "metadata": {},
   "outputs": [],
   "source": [
    "# Count the number of companies based on the year of entry\n",
    "year_counts = df['Year'].value_counts()\n",
    "\n",
    "# Sort the years in ascending order\n",
    "sorted_years = year_counts.sort_index()\n",
    "\n",
    "# Plot the number of companies based on the year of entry using a line plot\n",
    "plt.figure(figsize=(10, 4))\n",
    "sns.barplot(x=sorted_years.index, y=sorted_years.values)\n",
    "plt.xlabel('Year')\n",
    "plt.ylabel('Number of Companies')\n",
    "plt.title('Number of Companies Based on Year')\n",
    "plt.xticks(rotation=90)\n",
    "plt.tight_layout()\n",
    "plt.show()"
   ]
  },
  {
   "cell_type": "markdown",
   "id": "15bae12a",
   "metadata": {},
   "source": [
    "### Insights:\n",
    "1. The year 2021 witnessed a remarkable surge in the establishment of unicorn startups, marking it as a pinnacle year for such ventures.\n",
    "2. In the subsequent year, 2022, although the number of startups remained high, it experienced a slight decrease compared to the unprecedented growth observed in 2021.\n",
    "3. Prior to 2021, the years 2018, 2019, and 2020 demonstrated a reasonably healthy environment for startup activities.\n",
    "4. However, preceding the aforementioned years, no notable periods were recognized as particularly prosperous for startups.\n",
    "\n"
   ]
  },
  {
   "cell_type": "code",
   "execution_count": 10,
   "id": "72d3ebee",
   "metadata": {},
   "outputs": [],
   "source": [
    "#Anaylse the number of investors year wise\n",
    "# Grouping the data by year and calculating the total number of investors for each year\n",
    "investors_by_year = df.groupby('Year')['Number_of_investors'].sum()\n",
    "\n",
    "# Plotting a line graph to visualize the trend\n",
    "plt.plot(investors_by_year.index, investors_by_year.values, marker='o')\n",
    "plt.xlabel('Year')\n",
    "plt.ylabel('Number of Investors')\n",
    "plt.title('Number of Investors Year-wise')\n",
    "plt.show()"
   ]
  },
  {
   "cell_type": "markdown",
   "id": "1db4bc46",
   "metadata": {},
   "source": [
    "## Insights:\n",
    "- The number of investors experienced rapid growth in 2021, indicating a thriving investment landscape.\n",
    "- However, there was a subsequent decline in 2022, suggesting a reduced number of companies seeking investment during that period."
   ]
  },
  {
   "cell_type": "code",
   "execution_count": 11,
   "id": "b30a873c",
   "metadata": {
    "scrolled": false
   },
   "outputs": [],
   "source": [
    "def plot_location_hubs(df, years):\n",
    "    # Filter data for the specified years\n",
    "    filtered_data = df[df['Year'].isin(years)]\n",
    "\n",
    "    # Grouping the filtered data by year and location, and calculating the count of companies in each location\n",
    "    location_hubs = filtered_data.groupby(['Year', 'Location'])['Company'].count().reset_index()\n",
    "\n",
    "    # Sort the location hubs by the number of companies in each location for each year\n",
    "    location_hubs_sorted = location_hubs.sort_values(['Year', 'Company'], ascending=[True, False])\n",
    "\n",
    "    # Create subplots for each year\n",
    "    num_rows = (len(years) + 1) // 2\n",
    "    fig, axes = plt.subplots(nrows=num_rows, ncols=2, figsize=(12, 6*num_rows))\n",
    "\n",
    "    # Define color palette for each year using Seaborn\n",
    "    colors = sns.color_palette('tab10', len(years))\n",
    "\n",
    "    # Iterate over years and plot location hubs\n",
    "    for i, year in enumerate(years):\n",
    "        ax = axes[i // 2, i % 2]\n",
    "        year_data = location_hubs_sorted[location_hubs_sorted['Year'] == year]\n",
    "        ax.bar(year_data['Location'], year_data['Company'], color=colors[i])\n",
    "        ax.set_xlabel('Location')\n",
    "        ax.set_ylabel('Number of Companies')\n",
    "        ax.set_title(f'Location Hubs for Companies in {year}')\n",
    "        ax.tick_params(axis='x', rotation=90)\n",
    "\n",
    "    # Adjust spacing between subplots\n",
    "    plt.tight_layout()\n",
    "\n",
    "    # Display the subplots\n",
    "    plt.show()\n",
    "\n",
    "plot_location_hubs(df, [2019, 2020, 2021, 2022])"
   ]
  },
  {
   "cell_type": "markdown",
   "id": "48c0e275",
   "metadata": {},
   "source": [
    "### Insights:\n",
    "- Bangalore and Gurgaon emerge as the primary startup hubs over the past four years.\n",
    "- Mumbai, Pune, Chennai, and Delhi also exhibit significant startup activity.\n",
    "- These locations showcase favorable environments for startups and a thriving entrepreneurial culture."
   ]
  },
  {
   "cell_type": "code",
   "execution_count": 12,
   "id": "1d54bf74",
   "metadata": {},
   "outputs": [],
   "source": [
    "# Analyse entry evaluation in each year\n",
    "import pandas as pd\n",
    "import matplotlib.pyplot as plt\n",
    "import seaborn as sns\n",
    "\n",
    "# Assuming you have a DataFrame named df with columns: Year, Entry_Values ($)\n",
    "# Year column represents the year of entry and Entry_Values ($) column represents the corresponding entry valuations\n",
    "\n",
    "# Line plot: Average entry valuation over the years\n",
    "average_entry_valuation = df.groupby('Year')['Entry_Valuation ($B)'].mean().reset_index()\n",
    "sns.lineplot(data=average_entry_valuation, x='Year', y='Entry_Valuation ($B)',marker='o')\n",
    "plt.xlabel('Year')\n",
    "plt.ylabel('Average Entry Valuation ($B)')\n",
    "plt.title('Average Entry Valuation Over the Years')\n",
    "plt.show()"
   ]
  },
  {
   "cell_type": "markdown",
   "id": "f04ae4d8",
   "metadata": {},
   "source": [
    "### Insights\n",
    "1. Peaks in Entry Evaluation: In the years 2014, 2018, 2021, and 2022, there were prominent peaks in the average entry evaluations. During these years, the average entry evaluation reached approximately 1.8 billion dollars.\n",
    "\n",
    "2. Decrease in Other Years: In contrast, the average entry evaluations in the remaining years showed a noticeable drop compared to the peak years. This indicates a general trend of lower valuations during those periods."
   ]
  },
  {
   "cell_type": "markdown",
   "id": "10cbdb30",
   "metadata": {},
   "source": [
    "---\n",
    "## Summary of Insights:\n",
    "---\n",
    "1. Main Sectors: \n",
    "   - Fintech emerges as the leading sector for unicorn startups, followed by SaaS and E-Commerce.\n",
    "   - Fintech, SaaS, and E-Commerce collectively dominate the unicorn startup landscape.\n",
    "   - Other notable sectors include Marketplace, Edtech, and Logistics Services.\n",
    "\n",
    "2. Entry Valuation: \n",
    "   - Web3 Infrastructure sector has the highest average entry valuation requirement, indicating substantial investment and growth potential.\n",
    "   - Other sectors like E-Commerce, Fintech, Healthtech, and Edtech have relatively lower average entry valuations.\n",
    "\n",
    "3. Total Investors: \n",
    "   - Bangalore has the highest concentration of unicorn startups, followed by Gurgaon and Mumbai.\n",
    "   - Other locations like Delhi, Pune, and Noida also have notable unicorn startup presence.\n",
    "\n",
    "4. Profitability: \n",
    "   - Foodtech, Mobility, Edtech, and Content sectors have shown the highest profit percentages.\n",
    "   - Fintech and Gaming sectors have also demonstrated considerable profitability.\n",
    "\n",
    "5. Year-wise Analysis: \n",
    "   - 2021 witnessed a remarkable surge in unicorn startup establishments.\n",
    "   - In 2022, the number of startups remained high but slightly decreased compared to 2021.\n",
    "   - Years 2018, 2019, and 2020 also showed a healthy startup environment.\n",
    "\n",
    "6. Investor Trends: \n",
    "   - The number of investors experienced rapid growth in 2021 but declined in 2022.\n",
    "\n",
    "7. Location Hubs: \n",
    "   - Bangalore and Gurgaon emerge as primary startup hubs, followed by Mumbai, Pune, Chennai, and Delhi.\n",
    "\n",
    "8. Entry Evaluation: \n",
    "   - Prominent peaks in average entry evaluations were observed in 2014, 2018, 2021, and 2022.\n",
    "   - Other years showed a noticeable drop in average entry evaluations.\n",
    " ---\n",
    "In Further analysis and exploration can be done within each sector, location, or specific year to gain more in-depth insights and inform decision-making processes."
   ]
  },
  {
   "cell_type": "markdown",
   "id": "2cc6e0c6",
   "metadata": {},
   "source": [
    "## Until then Keep coding and stay curious! 🚀 "
   ]
  }
 ],
 "metadata": {
  "kernelspec": {
   "display_name": "Python 3 (ipykernel)",
   "language": "python",
   "name": "python3"
  },
  "language_info": {
   "codemirror_mode": {
    "name": "ipython",
    "version": 3
   },
   "file_extension": ".py",
   "mimetype": "text/x-python",
   "name": "python",
   "nbconvert_exporter": "python",
   "pygments_lexer": "ipython3",
   "version": "3.11.2"
  }
 },
 "nbformat": 4,
 "nbformat_minor": 5
}
