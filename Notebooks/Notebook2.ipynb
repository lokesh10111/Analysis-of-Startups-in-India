{
 "cells": [
  {
   "cell_type": "markdown",
   "id": "eaee2b10",
   "metadata": {},
   "source": [
    "# Part 2 of Analysis on Unicorn Startups in India\n",
    "## Objective :\n",
    "Objective of this notebook is to do analysis based on insights we got from notebook 1.\n"
   ]
  },
  {
   "cell_type": "code",
   "execution_count": 1,
   "id": "bdfc2081",
   "metadata": {},
   "outputs": [],
   "source": [
    "import pandas as pd\n",
    "import numpy as np\n",
    "import matplotlib.pyplot as plt\n",
    "import seaborn as sns"
   ]
  },
  {
   "cell_type": "code",
   "execution_count": 2,
   "id": "f743b14a",
   "metadata": {},
   "outputs": [],
   "source": [
    "# Read the CSV file\n",
    "df = pd.read_csv(\"Data/PreprocessedUnicorn.csv\")"
   ]
  },
  {
   "cell_type": "code",
   "execution_count": 3,
   "id": "50dab180",
   "metadata": {},
   "outputs": [],
   "source": [
    "#Analyse the profit based on Entry and Final Valuation.\n",
    "df['Profit'] = ((df['Final_Valuation ($B)'] - df['Entry_Valuation ($B)']))"
   ]
  },
  {
   "cell_type": "markdown",
   "id": "c6515db2",
   "metadata": {},
   "source": [
    "## 1. Deep Dive into Sector Analysis :\n",
    "From previous analysis we got to know that Fintech, SaaS, and E-Commerce collectively dominate the unicorn startup landscape.\n",
    "Now Let's look into them one by one."
   ]
  },
  {
   "cell_type": "markdown",
   "id": "62e282f1",
   "metadata": {},
   "source": [
    "## Fintech"
   ]
  },
  {
   "cell_type": "code",
   "execution_count": null,
   "id": "5eb5ee4a",
   "metadata": {},
   "outputs": [],
   "source": [
    "df_fintech=df[df['Main_Sector']=='Fintech'].copy()"
   ]
  },
  {
   "cell_type": "code",
   "execution_count": null,
   "id": "f042c961",
   "metadata": {},
   "outputs": [],
   "source": [
    "df_fintech.loc[:, 'Sub_Sector'] = df_fintech['Sector'].str.split('-').str[1].str.strip()"
   ]
  },
  {
   "cell_type": "code",
   "execution_count": null,
   "id": "c38a4ab8",
   "metadata": {},
   "outputs": [],
   "source": [
    "plt.figure(figsize=(6, 4))\n",
    "sns.countplot(data=df_fintech, y='Sub_Sector',orient='h')\n",
    "plt.xlabel('Count')\n",
    "plt.ylabel('Sub Sector')\n",
    "plt.title('Count of Startups in each Sub Sector (Fintech)')\n",
    "plt.yticks\n",
    "plt.show()"
   ]
  },
  {
   "cell_type": "markdown",
   "id": "7ad0856d",
   "metadata": {},
   "source": [
    "## Insights\n",
    "- Payments sub-sector dominates the fintech industry: Among the various sub-sectors within fintech, the Payments sub-sector exhibits the highest presence and activity. This indicates a strong focus on developing innovative payment solutions and platforms within the fintech landscape."
   ]
  },
  {
   "cell_type": "code",
   "execution_count": null,
   "id": "b3ef9585",
   "metadata": {},
   "outputs": [],
   "source": [
    "plt.figure(figsize=(5, 2))\n",
    "sns.barplot(x='Sub_Sector', y='Profit', data=df_fintech)\n",
    "plt.xlabel('Sub-Sector')\n",
    "plt.ylabel('Profit')\n",
    "plt.title('Profit by Sub-Sector in Fintech')\n",
    "plt.xticks(rotation=90)\n",
    "plt.show()"
   ]
  },
  {
   "cell_type": "markdown",
   "id": "2cc8eed0",
   "metadata": {},
   "source": [
    "## Insight:\n",
    "The Payments sub-sector within the fintech industry demonstrates the highest profitability, indicating significant growth and potential within this segment. This highlights the lucrative opportunities available in the payments industry for fintech companies."
   ]
  },
  {
   "cell_type": "code",
   "execution_count": null,
   "id": "12c9b829",
   "metadata": {},
   "outputs": [],
   "source": [
    "import seaborn as sns\n",
    "import matplotlib.pyplot as plt\n",
    "\n",
    "average_entry_valuation_fintech = df_fintech.groupby('Year')['Entry_Valuation ($B)'].mean().reset_index()\n",
    "plt.figure(figsize=(12, 4))\n",
    "plt.subplot(1, 2, 1)\n",
    "sns.lineplot(data=average_entry_valuation_fintech, x='Year', y='Entry_Valuation ($B)', marker='o')\n",
    "plt.xlabel('Year')\n",
    "plt.ylabel('Average Entry Valuation of Fintech Sector ($)')\n",
    "plt.title('Average Entry Valuation Over the Years')\n",
    "\n",
    "# Line plot: Average final valuation over the years\n",
    "average_final_valuation_fintech = df_fintech.groupby('Year')['Final_Valuation ($B)'].mean().reset_index()\n",
    "plt.subplot(1, 2, 2)\n",
    "sns.lineplot(data=average_final_valuation_fintech, x='Year', y='Final_Valuation ($B)', marker='o')\n",
    "plt.xlabel('Year')\n",
    "plt.ylabel('Average Final Valuation of Fintech Sector($)')\n",
    "plt.title('Average Final Valuation Over the Years')\n",
    "\n",
    "plt.tight_layout()\n",
    "plt.show()"
   ]
  },
  {
   "cell_type": "code",
   "execution_count": null,
   "id": "d4a70a78",
   "metadata": {},
   "outputs": [],
   "source": [
    "# Create subplots with 1 row and 3 columns\n",
    "fig, axes = plt.subplots(1, 3, figsize=(12, 4))\n",
    "\n",
    "# Box plot for entry valuation without outliers\n",
    "sns.boxplot(data=df_fintech, y='Entry_Valuation ($B)', ax=axes[0], showfliers=False)\n",
    "axes[0].set_ylabel('Entry Valuation ($B)')\n",
    "axes[0].set_title('Box Plot of Entry Valuation (Without Outliers)')\n",
    "\n",
    "# Box plot for final valuation without outliers\n",
    "sns.boxplot(data=df_fintech, y='Final_Valuation ($B)', ax=axes[1], showfliers=False)\n",
    "axes[1].set_ylabel('Final Valuation ($B)')\n",
    "axes[1].set_title('Box Plot of Final Valuation (Without Outliers)')\n",
    "\n",
    "# Box plot for profit without outliers\n",
    "sns.boxplot(data=df_fintech, y='Profit', ax=axes[2], showfliers=False)\n",
    "axes[2].set_ylabel('Profit')\n",
    "axes[2].set_title('Box Plot of Profit (Without Outliers)')\n",
    "\n",
    "# Adjust spacing between subplots\n",
    "plt.tight_layout()\n",
    "\n",
    "# Display the subplots\n",
    "plt.show()"
   ]
  },
  {
   "cell_type": "markdown",
   "id": "f9f2f555",
   "metadata": {},
   "source": [
    "## Insights\n",
    "- The average entry valuation of the startups is 1.40 billion dollars, with a maximum entry valuation of 2.75 billion dollars.\n",
    "- The average final valuation of the startups is around 2.8 billion dollars, with a maximum final valuation around 7 billion dollars.\n",
    "- The average profit made by the startups is 1.5 billion dollars, with a minimum profit of 0.5 billion dollars and a maximum profit around 6 billion dollars."
   ]
  },
  {
   "cell_type": "code",
   "execution_count": null,
   "id": "fb8c3733",
   "metadata": {},
   "outputs": [],
   "source": [
    "plt.figure(figsize=(8, 4))\n",
    "sns.barplot(data=df_fintech, y='Sub_Sector', x='Number_of_investors')\n",
    "plt.ylabel('Sub-Sector')\n",
    "plt.xlabel('Number of Investors')\n",
    "plt.title('Number of Investors in Each Sub-Sector')\n",
    "plt.tight_layout()\n",
    "plt.show()"
   ]
  },
  {
   "cell_type": "markdown",
   "id": "7e5a1509",
   "metadata": {},
   "source": [
    "### Insights\n",
    "- The Insurance subsector in Fintech appears to be highly attractive to investors, receiving a significant number of investments.\n",
    "\n",
    "- Following Insurance, subsectors like Payments & Wallet, Payment Solutions, Credit Cards, Market Place, and Neo bank also receive notable attention from investors."
   ]
  },
  {
   "cell_type": "markdown",
   "id": "64084f2a",
   "metadata": {},
   "source": [
    "## Summary of Fintech Sector for Unicorn Startups:\n",
    "- The Payments sub-sector dominates the fintech industry, showcasing a strong presence and indicating a focus on innovative payment solutions and platforms.\n",
    "\n",
    "- The Payments sub-sector also stands out for its high profitability, presenting significant growth potential within the fintech landscape.\n",
    "\n",
    "- The average entry valuation for fintech startups is 1.40 billion dollars, with a maximum entry valuation of 2.75 billion dollars.\n",
    "\n",
    "- The average final valuation for fintech startups is approximately 2.8 billion dollars, with a maximum final valuation of around 7 billion dollars.\n",
    "\n",
    "- Fintech startups demonstrate an average profit of 1.5 billion dollars, with a minimum profit of 0.5 billion dollars and a maximum profit of 6 billion dollars.\n",
    "\n",
    "- In terms of investor attraction, the Insurance subsector in Fintech receives substantial attention, followed by Payments & Wallet, Payment Solutions, Credit Cards, Market Place, and Neo bank, which also garner notable investments from investors."
   ]
  },
  {
   "cell_type": "markdown",
   "id": "3e62a131",
   "metadata": {},
   "source": [
    "## Saas"
   ]
  },
  {
   "cell_type": "code",
   "execution_count": null,
   "id": "4fdc0aa3",
   "metadata": {},
   "outputs": [],
   "source": [
    "df_Saas=df[df['Main_Sector']=='Saas'].copy()\n",
    "df_Saas.loc[:, 'Sub_Sector'] = df_Saas['Sector'].str.split('-').str[1].str.strip()"
   ]
  },
  {
   "cell_type": "code",
   "execution_count": null,
   "id": "893a03c7",
   "metadata": {},
   "outputs": [],
   "source": [
    "plt.figure(figsize=(6, 4))\n",
    "sns.countplot(data=df_Saas, y='Sub_Sector', orient='h')\n",
    "plt.xlabel('Count')\n",
    "plt.ylabel('Sub Sector')\n",
    "plt.title('Count of Startups in each Sub Sector (SaaS)')\n",
    "plt.show()"
   ]
  },
  {
   "cell_type": "markdown",
   "id": "47fe2d9d",
   "metadata": {},
   "source": [
    "### Insights:\n",
    "\n",
    "1. Diverse Sub-Sectors in SaaS: The SaaS (Software as a Service) sector exhibits a wide range of sub-sectors, showcasing the versatility and varied applications of SaaS-based solutions in the startup landscape.\n",
    "\n",
    "2. Equal Contribution Across Sub-Sectors: Within the Unicorn category, all SaaS sub-sectors demonstrate significant presence and activity, indicating a balanced distribution of startups across various domains. Notably, analytics, CRM (Customer Relationship Management), and HR (Human Resources) sub-sectors stand out with a relatively higher number of startups."
   ]
  },
  {
   "cell_type": "code",
   "execution_count": null,
   "id": "76f3ad35",
   "metadata": {},
   "outputs": [],
   "source": [
    "plt.figure(figsize=(5, 2))\n",
    "sns.barplot(x='Sub_Sector', y='Profit', data=df_Saas)\n",
    "plt.xlabel('Sub-Sector')\n",
    "plt.ylabel('Profit')\n",
    "plt.title('Profit by Sub-Sector in Saas')\n",
    "plt.xticks(rotation=90)\n",
    "plt.show()"
   ]
  },
  {
   "cell_type": "markdown",
   "id": "070c1328",
   "metadata": {},
   "source": [
    "### Insights\n",
    "- In the SaaS sector, profitable sub-sectors include Contact Management and API Development, followed by Health Care & Data Analytics and Billing Solutions.\n",
    "- However, sub-sectors like HR exhibit lower profitability compared to others."
   ]
  },
  {
   "cell_type": "code",
   "execution_count": null,
   "id": "77a6aaf8",
   "metadata": {},
   "outputs": [],
   "source": [
    "import seaborn as sns\n",
    "import matplotlib.pyplot as plt\n",
    "\n",
    "average_entry_valuation_Saas = df_Saas.groupby('Year')['Entry_Valuation ($B)'].mean().reset_index()\n",
    "plt.figure(figsize=(12, 4))\n",
    "plt.subplot(1, 2, 1)\n",
    "sns.lineplot(data=average_entry_valuation_Saas, x='Year', y='Entry_Valuation ($B)', marker='o')\n",
    "plt.xlabel('Year')\n",
    "plt.ylabel('Average Entry Valuation of Saas Sector ($)')\n",
    "plt.title('Average Entry Valuation Over the Years in Saas Sector')\n",
    "\n",
    "# Line plot: Average final valuation over the years\n",
    "average_final_valuation_Saas = df_fintech.groupby('Year')['Final_Valuation ($B)'].mean().reset_index()\n",
    "plt.subplot(1, 2, 2)\n",
    "sns.lineplot(data=average_final_valuation_Saas, x='Year', y='Final_Valuation ($B)', marker='o')\n",
    "plt.xlabel('Year')\n",
    "plt.ylabel('Average Final Valuation of Saas Sector($)')\n",
    "plt.title('Average Final Valuation Over the Years in Saas Sector')\n",
    "\n",
    "plt.tight_layout()\n",
    "plt.show()"
   ]
  },
  {
   "cell_type": "code",
   "execution_count": null,
   "id": "a9aea021",
   "metadata": {},
   "outputs": [],
   "source": [
    "# Create subplots with 1 row and 3 columns\n",
    "fig, axes = plt.subplots(1, 3, figsize=(12, 4))\n",
    "\n",
    "# Box plot for entry valuation without outliers\n",
    "sns.boxplot(data=df_Saas, y='Entry_Valuation ($B)', ax=axes[0], showfliers=False)\n",
    "axes[0].set_ylabel('Entry Valuation ($B)')\n",
    "axes[0].set_title('Box Plot of Entry Valuation (Without Outliers)')\n",
    "\n",
    "# Box plot for final valuation without outliers\n",
    "sns.boxplot(data=df_Saas, y='Final_Valuation ($B)', ax=axes[1], showfliers=False)\n",
    "axes[1].set_ylabel('Final Valuation ($B)')\n",
    "axes[1].set_title('Box Plot of Final Valuation (Without Outliers)')\n",
    "\n",
    "# Box plot for profit without outliers\n",
    "sns.boxplot(data=df_Saas, y='Profit', ax=axes[2], showfliers=False)\n",
    "axes[2].set_ylabel('Profit')\n",
    "axes[2].set_title('Box Plot of Profit (Without Outliers)')\n",
    "\n",
    "# Adjust spacing between subplots\n",
    "plt.tight_layout()\n",
    "\n",
    "# Display the subplots\n",
    "plt.show()"
   ]
  },
  {
   "cell_type": "markdown",
   "id": "e6795657",
   "metadata": {},
   "source": [
    "### Insights\n",
    "- The average entry valuation of the startups is 1.43 billion dollars, with a maximum entry valuation of 4.00 billion dollars.\n",
    "- The average final valuation of the startups is around 2.4 billion dollars, with a maximum final valuation around 5.60 billion dollars.\n",
    "- The average profit made by the startups is 0.95 billion dollars."
   ]
  },
  {
   "cell_type": "code",
   "execution_count": null,
   "id": "07492ba2",
   "metadata": {},
   "outputs": [],
   "source": [
    "plt.figure(figsize=(8, 4))\n",
    "sns.barplot(data=df_Saas, y='Sub_Sector', x='Number_of_investors')\n",
    "plt.ylabel('Sub-Sector')\n",
    "plt.xlabel('Number of Investors')\n",
    "plt.title('Number of Investors in Each Sub-Sector')\n",
    "plt.tight_layout()\n",
    "plt.show()"
   ]
  },
  {
   "cell_type": "markdown",
   "id": "b1133454",
   "metadata": {},
   "source": [
    "### Insights for SaaS Sector:\n",
    "\n",
    "1. Diverse Sub-Sectors in SaaS: The SaaS (Software as a Service) sector exhibits a wide range of sub-sectors, showcasing the versatility and varied applications of SaaS-based solutions in the startup landscape.\n",
    "\n",
    "2. Equal Contribution Across Sub-Sectors: Within the Unicorn category, all SaaS sub-sectors demonstrate significant presence and activity, indicating a balanced distribution of startups across various domains. Notably, analytics, CRM (Customer Relationship Management), and HR (Human Resources) sub-sectors stand out with a relatively higher number of startups.\n",
    "\n",
    "3. Profitability in SaaS: In the SaaS sector, profitable sub-sectors include Contact Management and API Development, followed by Health Care & Data Analytics and Billing Solutions. However, sub-sectors like HR exhibit lower profitability compared to others.\n",
    "\n",
    "4. Valuation and Profit: The average entry valuation of the startups in the SaaS sector is 1.43 billion dollars, with a maximum entry valuation of 4.00 billion dollars. The average final valuation is around 2.4 billion dollars, with a maximum final valuation around 5.60 billion dollars. The average profit made by the startups is 0.95 billion dollars.\n",
    "\n",
    "5. Investor Interest: Salon & Spa Management, Healthcare Data Analytics, and Subscription Billing Solution are the top sub-sectors attracting more investors in the SaaS industry. Following these, sub-sectors such as CRM, Analytics, Programming Tools, and Local Ads Targeting also garner significant investor interest. Other sub-sectors within SaaS are also performing well in attracting investors, indicating a healthy and diverse investment landscape in the SaaS industry."
   ]
  },
  {
   "cell_type": "markdown",
   "id": "8b139805",
   "metadata": {},
   "source": [
    "## E-Commerce"
   ]
  },
  {
   "cell_type": "code",
   "execution_count": null,
   "id": "07bd5e74",
   "metadata": {},
   "outputs": [],
   "source": [
    "# Filter the DataFrame for the E-Commerce sector\n",
    "df_ECommerce = df[df['Main_Sector'] == 'E-Commerce'].copy()\n",
    "\n",
    "# Extract the sub-sector information from the 'Sector' column and create a new 'Sub_Sector' column\n",
    "df_ECommerce.loc[:, 'Sub_Sector'] = df_ECommerce['Sector'].str.split('-').str[2].str.strip()"
   ]
  },
  {
   "cell_type": "code",
   "execution_count": null,
   "id": "29ed5d76",
   "metadata": {},
   "outputs": [],
   "source": [
    "df_ECommerce['Sub_Sector'].fillna(\"General\",inplace=True)"
   ]
  },
  {
   "cell_type": "code",
   "execution_count": null,
   "id": "708e496c",
   "metadata": {},
   "outputs": [],
   "source": [
    "plt.figure(figsize=(6, 4))\n",
    "sns.countplot(data=df_ECommerce, y='Sub_Sector', orient='h')\n",
    "plt.xlabel('Count')\n",
    "plt.ylabel('Sub Sector')\n",
    "plt.title('Count of Startups in each Sub Sector (E-Commerce)')\n",
    "plt.show()"
   ]
  },
  {
   "cell_type": "markdown",
   "id": "44029043",
   "metadata": {},
   "source": [
    "## Insights:\n",
    "- The E-Commerce industry exhibits a diverse range of sub-sectors, showcasing the variety of products and services offered in this sector.\n",
    "- Among the E-Commerce sub-sectors, the \"General\" sub-sector dominates, indicating a wide array of products and services available under the E-Commerce umbrella.\n",
    "- Notably, sub-sectors such as \"Groceries,\" \"Personal Care and Cosmetics,\" and \"Social Commerce\" show strong presence and activity within the E-Commerce landscape, signifying their popularity and potential for growth."
   ]
  },
  {
   "cell_type": "code",
   "execution_count": null,
   "id": "a7b2c7ac",
   "metadata": {},
   "outputs": [],
   "source": [
    "plt.figure(figsize=(5, 2))\n",
    "sns.barplot(x='Sub_Sector', y='Profit', data=df_ECommerce)\n",
    "plt.xlabel('Sub-Sector')\n",
    "plt.ylabel('Profit')\n",
    "plt.title('Profit by Sub-Sector in E-Commerce')\n",
    "plt.xticks(rotation=90)\n",
    "plt.show()"
   ]
  },
  {
   "cell_type": "markdown",
   "id": "f8c949ae",
   "metadata": {},
   "source": [
    "## Insights:\n",
    "- The E-Commerce sector showcases a mix of profitable and less profitable sub-sectors, indicating variations in performance among startups.\n",
    "- The \"General\" sub-sector stands out as the most profitable within the E-Commerce industry, demonstrating strong growth and potential for startups..\n",
    "- Other profitable sub-sectors include \"Eyewear\" and \"Online Pharmacy,\" highlighting the demand for specialized E-Commerce domains.\n",
    "- On the other hand, sub-sectors like \"Cosmetics\" and \"Baby Care Products\" show relatively lower profitability, suggesting possible challenges or competition in these niches."
   ]
  },
  {
   "cell_type": "code",
   "execution_count": null,
   "id": "e86cba31",
   "metadata": {},
   "outputs": [],
   "source": [
    "import seaborn as sns\n",
    "import matplotlib.pyplot as plt\n",
    "\n",
    "average_entry_valuation_ECommerce = df_ECommerce.groupby('Year')['Entry_Valuation ($B)'].mean().reset_index()\n",
    "plt.figure(figsize=(12, 4))\n",
    "plt.subplot(1, 2, 1)\n",
    "sns.lineplot(data=average_entry_valuation_Saas, x='Year', y='Entry_Valuation ($B)', marker='o')\n",
    "plt.xlabel('Year')\n",
    "plt.ylabel('Average Entry Valuation of E-commerce Sector ($)')\n",
    "plt.title('Average Entry Valuation Over the Years in E-commerce Sector')\n",
    "\n",
    "# Line plot: Average final valuation over the years\n",
    "average_final_valuation_ECommerce = df_ECommerce.groupby('Year')['Final_Valuation ($B)'].mean().reset_index()\n",
    "plt.subplot(1, 2, 2)\n",
    "sns.lineplot(data=average_final_valuation_Saas, x='Year', y='Final_Valuation ($B)', marker='o')\n",
    "plt.xlabel('Year')\n",
    "plt.ylabel('Average Final Valuation of E-commerce($)')\n",
    "plt.title('Average Final Valuation Over the Years in E-commerce Sector')\n",
    "\n",
    "plt.tight_layout()\n",
    "plt.show()"
   ]
  },
  {
   "cell_type": "code",
   "execution_count": null,
   "id": "38552735",
   "metadata": {},
   "outputs": [],
   "source": [
    "# Create subplots with 1 row and 3 columns\n",
    "fig, axes = plt.subplots(1, 3, figsize=(12, 4))\n",
    "\n",
    "# Box plot for entry valuation without outliers\n",
    "sns.boxplot(data=df_ECommerce, y='Entry_Valuation ($B)', ax=axes[0], showfliers=False)\n",
    "axes[0].set_ylabel('Entry Valuation ($B)')\n",
    "axes[0].set_title('Box Plot of Entry Valuation (Without Outliers)')\n",
    "\n",
    "# Box plot for final valuation without outliers\n",
    "sns.boxplot(data=df_ECommerce, y='Final_Valuation ($B)', ax=axes[1], showfliers=False)\n",
    "axes[1].set_ylabel('Final Valuation ($B)')\n",
    "axes[1].set_title('Box Plot of Final Valuation (Without Outliers)')\n",
    "\n",
    "# Box plot for profit without outliers\n",
    "sns.boxplot(data=df_ECommerce, y='Profit', ax=axes[2], showfliers=False)\n",
    "axes[2].set_ylabel('Profit')\n",
    "axes[2].set_title('Box Plot of Profit (Without Outliers)')\n",
    "\n",
    "# Adjust spacing between subplots\n",
    "plt.tight_layout()\n",
    "\n",
    "# Display the subplots\n",
    "plt.show()"
   ]
  },
  {
   "cell_type": "code",
   "execution_count": null,
   "id": "073781dd",
   "metadata": {},
   "outputs": [],
   "source": [
    "df_ECommerce.describe()"
   ]
  },
  {
   "cell_type": "markdown",
   "id": "1ceaf823",
   "metadata": {},
   "source": [
    "### Insights\n",
    "- The average entry valuation of the startups is 1.32 billion dollars, with a maximum entry valuation of 2.10 billion dollars.\n",
    "- The average final valuation of the startups is around 4.7 billion dollars, with a maximum final valuation around 37.60 billion dollars.\n",
    "- The average profit made by the startups is 3.43 billion dollars."
   ]
  },
  {
   "cell_type": "code",
   "execution_count": null,
   "id": "14816aae",
   "metadata": {},
   "outputs": [],
   "source": [
    "plt.figure(figsize=(8, 4))\n",
    "sns.barplot(data=df_ECommerce, y='Sub_Sector', x='Number_of_investors')\n",
    "plt.ylabel('Sub-Sector')\n",
    "plt.xlabel('Number of Investors')\n",
    "plt.title('Number of Investors in Each Sub-Sector')\n",
    "plt.tight_layout()\n",
    "plt.show()"
   ]
  },
  {
   "cell_type": "markdown",
   "id": "7cdf13ee",
   "metadata": {},
   "source": [
    "### Insights\n",
    "- The E-commerce sector is attracting a substantial number of investors, indicating a strong interest in this industry.\n",
    "\n",
    "- Among the various sub-sectors within E-commerce, Industrial Equipment, Online Pharmacy, Groceries, and Eyewear are particularly attractive to investors, receiving a high number of investments.\n",
    "\n",
    "- General E-commerce and Social Commerce also demonstrate significant investor interest, further contributing to the overall growth and development of the E-commerce sector.\n",
    "\n",
    "- The high investor activity in these sub-sectors suggests a positive outlook for the E-commerce industry, with multiple segments showing promising potential for growth and profitability."
   ]
  },
  {
   "cell_type": "markdown",
   "id": "ce954497",
   "metadata": {},
   "source": [
    "## Summary of E-Commerce Insights\n",
    "1. Diverse sub-sectors: E-Commerce exhibits a wide range of sub-sectors, showcasing versatility in products and services.\n",
    "2. Dominance of \"General\": The \"General\" sub-sector holds prominence, offering a variety of products.\n",
    "3. Growing Sub-sectors: \"Groceries,\" \"Personal Care and Cosmetics,\" and \"Social Commerce\" show strong presence and potential.\n",
    "4. Profitability: \"General\" and specialized domains like \"Eyewear\" and \"Online Pharmacy\" are profitable.\n",
    "5. Less Profitable: \"Cosmetics\" and \"Baby Care Products\" sub-sectors have lower profitability.\n",
    "6. Attractive to Investors: E-Commerce attracts significant investor interest, especially in \"Industrial Equipment,\" \"Online Pharmacy,\" \"Groceries,\" and \"Eyewear.\" \"General\" and \"Social Commerce\" also draw considerable investments.\n",
    "    "
   ]
  },
  {
   "cell_type": "markdown",
   "id": "4eb1c502",
   "metadata": {},
   "source": [
    "# Summary of Insights :\n",
    "\n",
    "## 1. Fintech Sector:\n",
    "- The Payments sub-sector dominates the fintech industry, indicating a strong focus on developing innovative payment solutions and platforms.\n",
    "- The Payments sub-sector also demonstrates the highest profitability, highlighting lucrative opportunities in this segment.\n",
    "- The average entry valuation of fintech startups is 1.40 billion dollars, with a maximum entry valuation of 2.75 billion dollars.\n",
    "- The average final valuation of fintech startups is around 2.8 billion dollars, with a maximum final valuation of 7 billion dollars.\n",
    "- The average profit made by fintech startups is 1.5 billion dollars.\n",
    "\n",
    "## 2. SaaS Sector:\n",
    "- The SaaS sector exhibits diverse sub-sectors, with analytics, CRM, and HR being prominent.\n",
    "- The Contact Management and API Development sub-sectors show higher profitability, while sub-sectors like Cosmetics and Baby Care products exhibit lower profitability.\n",
    "- The average entry valuation of SaaS startups is 1.43 billion dollars, with a maximum entry valuation of 4.00 billion dollars.\n",
    "- The average final valuation of SaaS startups is around 2.4 billion dollars, with a maximum final valuation of 5.60 billion dollars.\n",
    "- The average profit made by SaaS startups is 0.95 billion dollars.\n",
    "\n",
    "## 3. E-Commerce Sector:\n",
    "- The E-Commerce industry encompasses a wide range of sub-sectors, with the General sub-sector dominating the landscape.\n",
    "- Notable sub-sectors like Groceries, Personal Care and Cosmetics, and Social Commerce show strong presence and activity within the E-Commerce industry.\n",
    "- The General sub-sector exhibits the highest profitability, while Industrial Equipment, Online Pharmacy, and Eyewear also attract significant investor interest.\n",
    "- The average entry valuation of E-Commerce startups is 1.32 billion dollars, with a maximum entry valuation of 2.10 billion dollars.\n",
    "- The average final valuation of E-Commerce startups is around 4.7 billion dollars, with a maximum final valuation of 37.60 billion dollars.\n",
    "- The average profit made by E-Commerce startups is 3.43 billion dollars.\n",
    "---\n",
    "In Further analysis and exploration can be done within location, or specific year to gain more in-depth insights and inform decision-making processes."
   ]
  },
  {
   "cell_type": "markdown",
   "id": "a22f5d3e",
   "metadata": {},
   "source": [
    "## Until then Keep coding and stay curious! 🚀 "
   ]
  }
 ],
 "metadata": {
  "kernelspec": {
   "display_name": "Python 3 (ipykernel)",
   "language": "python",
   "name": "python3"
  },
  "language_info": {
   "codemirror_mode": {
    "name": "ipython",
    "version": 3
   },
   "file_extension": ".py",
   "mimetype": "text/x-python",
   "name": "python",
   "nbconvert_exporter": "python",
   "pygments_lexer": "ipython3",
   "version": "3.11.2"
  }
 },
 "nbformat": 4,
 "nbformat_minor": 5
}
